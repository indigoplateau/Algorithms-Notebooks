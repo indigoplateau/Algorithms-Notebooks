{
 "cells": [
  {
   "cell_type": "markdown",
   "id": "91502d43",
   "metadata": {},
   "source": [
    "# Program 2 Assignment <br>Marianne Strauss\n",
    "**Marianne Strauss<br>CSCI 3412 - Algorithms**\n",
    "\n",
    "# Introduction\n",
    "\n",
    "This is a report with implemention of 3 search algorithms, first with pseudocode then implenting each search algorithm with python. Then each search algorithm's performance will be analyzed based on the written code. Finally a concordance of the complete works of Shakespeare is made using each search algorithm, with the concordance using a different datat strcuture for each."
   ]
  },
  {
   "cell_type": "markdown",
   "id": "6a86bd07",
   "metadata": {},
   "source": [
    "Searching Algorithms\n",
    "\n",
    "I have chosen 3 searching algorithms to implement and analyze:\n",
    "\n",
    "Expected Running time | Searching Algorithm\n",
    "--------------------------------- |--------------\n",
    "$O(n)$ | Linear Search\n",
    "$O(nlogn)$ | Binary Search with duplicate search\n",
    "$O(1)$ | searching Hash table"
   ]
  },
  {
   "cell_type": "markdown",
   "id": "e0497fc6",
   "metadata": {},
   "source": [
    "### Assumptions Based on Assignment Prompt\n",
    "\n",
    "Conconcordances are built using the following data structures: \n",
    "1. Unsorted sequence (vector or list)\n",
    "2. Sorted sequence (vector or list)\n",
    "3. Hash table\n",
    "\n",
    "For the Sorted sequence, the sequance can be sorted at any time during process of building concordance\n"
   ]
  },
  {
   "cell_type": "markdown",
   "id": "2ff199be",
   "metadata": {},
   "source": [
    "# Part 1 - Pseudo-Code\n",
    "\n",
    "#### Linear Search\n",
    "This is a simple algorithm and naive algrithm that simple iterates through the unsorted input sequentially. This means worse case the time complexity is $O(n)$, therefore good for small unsorted inputs.\n",
    "\n",
    "```\n",
    "\n",
    "LINEARSEARCH(A, x):\n",
    "1  For i = 1 to A.length\n",
    "2     if x = A[i]\n",
    "3         return i\n",
    "4     else\n",
    "5         return -1\n",
    "\n",
    "```\n",
    "linear search just iterates through input looking for $x$. If $A[i]$ is equal to $x$ the function returns $i$ else it returns $-1$ or some sentinel to signify $x$ was not found.\n",
    "\n",
    "#### Binary Search\n",
    "\n",
    "For a sorted array binary search iteratively finds which part of the list that the key is located. It begins by comparing the element in the middle of the sorted input with the key. If it its is found key is returned otherwise the search contunies to the lower partition if the key is less than the middle element. If the key is greater that the key it proceeds through the upper partition. The process elimates the partition half the key is not in with each each iteration. If not found the search returns -1 or some sort of flag.\n",
    "\n",
    "```\n",
    "BINARYSEARCH(A, x):\n",
    "1 n = A.length\n",
    "2 L = 0\n",
    "3 R = n - 1\n",
    "4 while L <= R\n",
    "5   m = floor((L + R) / 2)\n",
    "6   if A[m] < x \n",
    "7       L = m + 1\n",
    "8   else if A[m] > x\n",
    "9       R = m -1\n",
    "10  else\n",
    "11      return m\n",
    "12 return -1\n",
    "```\n",
    "the problem with this search for our uses with a concordance the search will find ANY exact matching element and it may not even be the first occurance and therefore will not search the the text and return all occurances. In order to count duplicates a function must be used with multiple binary searches to find the amount of each duplicate with a modified binary search.\n",
    "\n",
    "\n",
    "```\n",
    "BINARYSEARCH(A, x, Search):\n",
    "1 n = A.length\n",
    "2 L = 0\n",
    "3 R = n - 1\n",
    "4 found = -1\n",
    "4 while L <= R\n",
    "5   m = floor((L + R) / 2)\n",
    "6   if x = A[m]\n",
    "7       found = m\n",
    "8       if Search\n",
    "9            R = m -1\n",
    "10      else\n",
    "11           L = m + 1\n",
    "12  elif x < A [m]\n",
    "13      R = m -1\n",
    "15  else\n",
    "16      L = m + 1\n",
    "17 return found\n",
    "```\n",
    "then binary search must used more than once to find the count\n",
    "\n",
    "```\n",
    "FINDDUPLICATES(A, x):\n",
    "1 lower = BINARYSEARCH(A, x, True)\n",
    "2 upper = BINARYSEARCH(A, x, False)\\\n",
    "3 count = upper - lower + 1\n",
    "4 if upper = -1\n",
    "5    return -1\n",
    "6 else\n",
    "7    return count\n",
    "```\n",
    "Above operation is I believe still $O(logn)$. It returns -1 if match is not found. and if found returns the count of duplicates. The solution above is based on an article by \"Techie Delight\", see citations.\n",
    "\n",
    "\n",
    "#### Hash based search\n",
    "Based on source (see citations). Hash search is very simple on average is $O(1)$ and is rarely at worst $O(n)$ if too many elements are hashed to a key.\n",
    "\n",
    "```\n",
    "HASHSEARCH(A, x):\n",
    "1 hashvalue = hash(x)\n",
    "2 list = A(h)\n",
    "3 if list\n",
    "4     return false\n",
    "5 if list.contains(t)\n",
    "6     return true\n",
    "7 return false\n",
    "```\n",
    "\n"
   ]
  },
  {
   "cell_type": "markdown",
   "id": "2af64fc8",
   "metadata": {},
   "source": [
    "# Static Analysis"
   ]
  },
  {
   "cell_type": "markdown",
   "id": "ba0c927d",
   "metadata": {},
   "source": [
    "## Linear Loop Invariant\n",
    "\n",
    "#### Loop invariant:\n",
    "At the start of each iteration of the for loop of lines 1 - 5 in part 2, for $i$ of $A[i]$ there is no $i$ that $A[i]$ equals $x$ (the target key).\n",
    "\n",
    "##### Initialization:\n",
    "Loop invariant holds before the first loop iteration because the previous index $A[0]$ is empty and therefore does not equal $x$.\n",
    "\n",
    "##### Maintenance:\n",
    "If the loop proceeds and $A[i] != v$ for the next iteration the invariant continues to hold.\n",
    "\n",
    "##### Termination\n",
    "If the key $x$ equals $A[i]$ then the loop terminates because the target was found and therefore the algorithm is correct\n",
    "\n",
    "\n",
    "\n",
    "## Binary Search Loop Invariant\n",
    "\n",
    "\n",
    "#### Loop invariant: \n",
    "At the start of each iteration of the for loop in lines 4-16 in part 2, partitions are $1 <= L <= R <= n$ and are therefore sectioning the list in the range $1 <= n$. Therefore if $x$ is in $A$ there is some index, $m$, where $ x = A[m]$.\n",
    "\n",
    "##### Initialization:\n",
    "Loop invariant holds before the first loop iteration because if $x$ is in $A$ then it will be in the range $1 <= n - 1$ when $A[m] = x$.\n",
    "\n",
    "##### Maintenance:\n",
    "Assume that prior to an iteration of the for loop in lines 12-17, there are three cases with the next iteration. Because $m$ is the mid point of the range $[L,R]$ if $A[m] = x$ the loop terminates, if $A[m] < x$ then it will search a new range of $[m + 1, R]$ and therefore the target index is $<= R$. Similarly when $A[m] < x$  it will search a new range of $[L, m - 1]$ and therefore the target index is $<= m - 1$. Therefore from these cases the invariant holds before the next iteration.\n",
    "\n",
    "##### Termination\n",
    "If  $A[m] < x$ the search has correctly searched the list and found the target in which the loop terminates as expected and the algorithm is therefore correct.\n",
    "\n"
   ]
  },
  {
   "cell_type": "markdown",
   "id": "dc56cbf8",
   "metadata": {},
   "source": [
    "# Part 2 - Implementation"
   ]
  },
  {
   "cell_type": "code",
   "execution_count": 1,
   "id": "44cce58d",
   "metadata": {
    "scrolled": true
   },
   "outputs": [],
   "source": [
    "import pandas as pd\n",
    "import numpy as np\n",
    "import matplotlib.pyplot as plt\n",
    "import seaborn as sb\n",
    "%matplotlib inline\n",
    "\n",
    "import operator\n",
    "import math\n",
    "import time"
   ]
  },
  {
   "cell_type": "markdown",
   "id": "b853f843",
   "metadata": {},
   "source": [
    "Below is the function used to count number of comparisons and a global comparison counter."
   ]
  },
  {
   "cell_type": "code",
   "execution_count": 2,
   "id": "916afc49",
   "metadata": {
    "scrolled": true
   },
   "outputs": [],
   "source": [
    "n_comparisons = 0\n",
    "\n",
    "\n",
    "def compare(f, x, y):\n",
    "    global n_comparisons\n",
    "    n_comparisons += 1\n",
    "    return f(x,y)\n"
   ]
  },
  {
   "cell_type": "markdown",
   "id": "4c0312fb",
   "metadata": {},
   "source": [
    "Below is the function used to count number of assignments and a global assignment counter."
   ]
  },
  {
   "cell_type": "code",
   "execution_count": 3,
   "id": "eda8f6f5",
   "metadata": {
    "scrolled": true
   },
   "outputs": [],
   "source": [
    "n_assignments = 0\n",
    "\n",
    "def assign(a, i, x):\n",
    "    global n_assignments\n",
    "    n_assignments += 1\n",
    "    a[i] = x"
   ]
  },
  {
   "cell_type": "code",
   "execution_count": 4,
   "id": "df04a725",
   "metadata": {},
   "outputs": [],
   "source": [
    "\n",
    "def dictassign(a, x, n = -1):\n",
    "    global n_assignments\n",
    "    n_assignments += 1\n",
    "    if n > 0:\n",
    "        a[x] = n"
   ]
  },
  {
   "cell_type": "markdown",
   "id": "e7b245de",
   "metadata": {},
   "source": [
    "#### *NOTE the above functions are based on code from Assignment 0 Sample report and refactored using operator module, works cited."
   ]
  },
  {
   "cell_type": "markdown",
   "id": "dcfb1eb6",
   "metadata": {},
   "source": [
    "### Getting Words"
   ]
  },
  {
   "cell_type": "code",
   "execution_count": 5,
   "id": "d23b5ba3",
   "metadata": {},
   "outputs": [],
   "source": [
    "\n",
    "def readFile(filename):\n",
    "    book = [''] * 1016578\n",
    "    with open(filename, 'r') as reader:\n",
    "        i = 0\n",
    "        while True:\n",
    "            line = reader.readline()\n",
    "            if not line:\n",
    "                return book\n",
    "            else:\n",
    "                book[i] = line \n",
    "                i += 1\n",
    "sortedList = readFile('wordlist.txt')\n",
    "unsortedList = readFile('wordlist.txt')\n",
    "\n",
    "sortedList = [each_string.lower() for each_string in sortedList]\n",
    "sortedList = sorted(sortedList)"
   ]
  },
  {
   "cell_type": "markdown",
   "id": "cffd52d4",
   "metadata": {},
   "source": [
    "### Creating Concordances"
   ]
  },
  {
   "cell_type": "code",
   "execution_count": 6,
   "id": "94483260",
   "metadata": {},
   "outputs": [],
   "source": [
    "conc1 = {}\n",
    "conc2 = [''] * 30000\n",
    "conc3 = [''] * 30000\n",
    "\n",
    "comparison_dataframe = pd.DataFrame(columns = ['Algo Name', 'Comparisons', 'Assignments'])"
   ]
  },
  {
   "cell_type": "markdown",
   "id": "a181b54c",
   "metadata": {},
   "source": [
    "### Linear Search Implementation"
   ]
  },
  {
   "cell_type": "code",
   "execution_count": 7,
   "id": "1bd4dc79",
   "metadata": {
    "scrolled": true
   },
   "outputs": [],
   "source": [
    "n_comparisons = 0\n",
    "\n",
    "def linearSearch(a, x):\n",
    "    for i in range(0, len(a)):\n",
    "        if compare(operator.eq, a[i], x):\n",
    "            return i\n",
    "    return -1      "
   ]
  },
  {
   "cell_type": "markdown",
   "id": "1c0976bd",
   "metadata": {},
   "source": [
    "#### Testing of Linear Search"
   ]
  },
  {
   "cell_type": "code",
   "execution_count": 8,
   "id": "51570f85",
   "metadata": {},
   "outputs": [
    {
     "name": "stdout",
     "output_type": "stream",
     "text": [
      "3\n",
      "Number of comparisons:  4\n"
     ]
    }
   ],
   "source": [
    "test= [4,3,5,1,7]\n",
    "\n",
    "print(linearSearch(test, 1))\n",
    "\n",
    "string = \"Number of comparisons: \"\n",
    "print(string, n_comparisons)"
   ]
  },
  {
   "cell_type": "markdown",
   "id": "cfde2f07",
   "metadata": {},
   "source": [
    "### Binary Search Implementation\n"
   ]
  },
  {
   "cell_type": "code",
   "execution_count": 9,
   "id": "e2b652c6",
   "metadata": {},
   "outputs": [],
   "source": [
    "\n",
    "def binarySearch(a, x, Search = None):\n",
    "    n = len(a)\n",
    "    L = 0\n",
    "    R = n - 1\n",
    "    found = -1\n",
    "    \n",
    "    while L <= R:\n",
    "        m = (L + R) // 2\n",
    "        if compare(operator.eq, a[m], x):\n",
    "            found = m\n",
    "            if Search:\n",
    "                R = m - 1\n",
    "            else:\n",
    "                L = m + 1\n",
    "        elif compare(operator.lt, x, a[m]):\n",
    "            R = m - 1\n",
    "\n",
    "        else:\n",
    "            L = m + 1\n",
    "    return found"
   ]
  },
  {
   "cell_type": "code",
   "execution_count": 10,
   "id": "60042784",
   "metadata": {},
   "outputs": [
    {
     "name": "stdout",
     "output_type": "stream",
     "text": [
      "4\n",
      "[5, 2, 4, 7, 1, 3, 2, 1, 8]\n",
      "Number of comparisons:  9\n"
     ]
    }
   ],
   "source": [
    "test= [5,2,4,7,1,3,2,1,8]\n",
    "\n",
    "print(binarySearch(test, 1))\n",
    "print(test)\n",
    "\n",
    "string = \"Number of comparisons: \"\n",
    "print(string, n_comparisons)"
   ]
  },
  {
   "cell_type": "code",
   "execution_count": 11,
   "id": "653f2ee2",
   "metadata": {},
   "outputs": [],
   "source": [
    "global n_comparisons\n",
    "n_comparisons = 0\n",
    "\n",
    "def findDupes(a, x):\n",
    "    lower = binarySearch(a, x, True)\n",
    "    upper = binarySearch(a, x, False)\n",
    "    count = upper - lower + 1\n",
    "    if upper == -1:\n",
    "         return -1\n",
    "    else:\n",
    "        return count"
   ]
  },
  {
   "cell_type": "code",
   "execution_count": 12,
   "id": "05d78a32",
   "metadata": {},
   "outputs": [
    {
     "name": "stdout",
     "output_type": "stream",
     "text": [
      "1\n",
      "Number of comparisons:  12\n"
     ]
    }
   ],
   "source": [
    "test= [1,2,2,3,5,6,9,9,20]\n",
    "\n",
    "print(findDupes(test, 5))\n",
    "\n",
    "string = \"Number of comparisons: \"\n",
    "print(string, n_comparisons)"
   ]
  },
  {
   "cell_type": "markdown",
   "id": "21c153a7",
   "metadata": {},
   "source": [
    "## Unsorted sequence"
   ]
  },
  {
   "cell_type": "code",
   "execution_count": 13,
   "id": "32bc738e",
   "metadata": {
    "scrolled": false
   },
   "outputs": [
    {
     "name": "stdout",
     "output_type": "stream",
     "text": [
      "27886\n",
      "Number of comparisons:  18734808147\n",
      "Number of assignments:  55772\n"
     ]
    }
   ],
   "source": [
    "global n_comparisons\n",
    "global n_assignments\n",
    "\n",
    "n_comparisons = 0\n",
    "n_assignments = 0\n",
    "\n",
    "occurances = [0] * 30000\n",
    "\n",
    "def linearSearchModified(a, x, start):\n",
    "    for i in range(start, len(a)):\n",
    "        if compare(operator.eq, a[i], x):\n",
    "            return i\n",
    "    return -1\n",
    "\n",
    "wordNum = 0\n",
    "for i in range(0, len(unsortedList)):\n",
    "    word = unsortedList[i].lower()\n",
    "    if word[0].isalpha():\n",
    "        if not word in conc2:\n",
    "            \n",
    "            flag = i\n",
    "            num = 1\n",
    "            while flag > -1:\n",
    "                index = linearSearchModified(unsortedList, word , flag + 1)\n",
    "                flag = index\n",
    "                if flag > 0:\n",
    "                    num += 1\n",
    "\n",
    "            assign(conc2, wordNum, word)\n",
    "            assign(occurances, wordNum, num)\n",
    "            wordNum += 1\n",
    "\n",
    "comparison_dataframe.loc[0] = ['Linear Search Build', n_comparisons, n_assignments]\n",
    "print(wordNum)\n",
    "string = \"Number of comparisons: \"\n",
    "print(string, n_comparisons)\n",
    "string = \"Number of assignments: \"\n",
    "print(string, n_assignments)"
   ]
  },
  {
   "cell_type": "markdown",
   "id": "d447429d",
   "metadata": {},
   "source": [
    "### Verification algo worked"
   ]
  },
  {
   "cell_type": "code",
   "execution_count": 14,
   "id": "78b02865",
   "metadata": {},
   "outputs": [
    {
     "name": "stdout",
     "output_type": "stream",
     "text": [
      "('a\\n', 12156)\n",
      "(\"a'\\n\", 102)\n",
      "(\"a's\\n\", 1)\n",
      "('a-bat-fowling\\n', 1)\n",
      "('a-bed\\n', 12)\n",
      "('a-birding\\n', 4)\n",
      "('a-bleeding\\n', 2)\n",
      "('a-breeding\\n', 1)\n",
      "('a-brewing\\n', 1)\n",
      "('a-broach\\n', 1)\n",
      "...\n",
      "('zenelophon\\n', 1)\n",
      "('zenith\\n', 1)\n",
      "('zephyrs\\n', 1)\n",
      "('zo\\n', 1)\n",
      "('zodiac\\n', 1)\n",
      "('zodiacs\\n', 1)\n",
      "('zone\\n', 1)\n",
      "('zounds\\n', 1)\n",
      "('zur\\n', 2)\n",
      "('zwaggered\\n', 1)\n"
     ]
    }
   ],
   "source": [
    "\n",
    "tempList = list(zip(conc2, occurances))\n",
    "\n",
    "sortedDisplayList = sorted(tempList)\n",
    "sortedDisplayList = list(filter(lambda x: not \"\" in x, sortedDisplayList))\n",
    "\n",
    "for i in range(0, 10):\n",
    "    print(sortedDisplayList[i])\n",
    "\n",
    "print('...')\n",
    "\n",
    "for i in range(len(sortedDisplayList) - 10, len(sortedDisplayList)):\n",
    "    print(sortedDisplayList[i])\n",
    "    \n"
   ]
  },
  {
   "cell_type": "markdown",
   "id": "e3b96768",
   "metadata": {},
   "source": [
    "## Sorted Sequence"
   ]
  },
  {
   "cell_type": "code",
   "execution_count": 15,
   "id": "b5c6e0a0",
   "metadata": {},
   "outputs": [
    {
     "name": "stdout",
     "output_type": "stream",
     "text": [
      "Number of unique words: 27886\n",
      "Number of comparisons:  2127668\n",
      "Number of assignments:  55772\n",
      "('a\\n', 13679)\n",
      "(\"a'\\n\", 120)\n",
      "(\"a's\\n\", 1)\n",
      "('a-bat-fowling\\n', 1)\n",
      "('a-bed\\n', 12)\n",
      "('a-birding\\n', 4)\n",
      "('a-bleeding\\n', 2)\n",
      "('a-breeding\\n', 1)\n",
      "('a-brewing\\n', 1)\n",
      "('a-broach\\n', 1)\n",
      "...\n",
      "('zenelophon\\n', 1)\n",
      "('zenith\\n', 1)\n",
      "('zephyrs\\n', 1)\n",
      "('zo\\n', 1)\n",
      "('zodiac\\n', 1)\n",
      "('zodiacs\\n', 1)\n",
      "('zone\\n', 1)\n",
      "('zounds\\n', 1)\n",
      "('zur\\n', 2)\n",
      "('zwaggered\\n', 1)\n"
     ]
    }
   ],
   "source": [
    "global n_comparisons\n",
    "global n_assignments\n",
    "\n",
    "n_comparisons = 0\n",
    "n_assignments = 0\n",
    "\n",
    "occurances = [0] * 30000\n",
    "\n",
    "wordNum = 0\n",
    "for i in range(0, len(sortedList)):\n",
    "    word = sortedList[i].lower()\n",
    "    if word[0].isalpha():\n",
    "        if not word in conc3:\n",
    "            num = findDupes(sortedList, word)\n",
    "            assign(conc3, wordNum, word)\n",
    "            assign(occurances, wordNum, num)\n",
    "            wordNum += 1\n",
    "\n",
    "comparison_dataframe.loc[1] = ['Binary Search Build', n_comparisons, n_assignments]            \n",
    "print(\"Number of unique words:\", wordNum)\n",
    "string = \"Number of comparisons: \"\n",
    "print(string, n_comparisons)\n",
    "string = \"Number of assignments: \"\n",
    "print(string, n_assignments)\n",
    "\n",
    "\n",
    "tempList = list(zip(conc3, occurances))\n",
    "\n",
    "# sortedDisplayList = sorted(tempList)\n",
    "sortedDisplayList = list(filter(lambda x: not \"\" in x, tempList))\n",
    "\n",
    "for i in range(0, 10):\n",
    "    print(sortedDisplayList[i])\n",
    "\n",
    "print('...')\n",
    "\n",
    "for i in range(len(sortedDisplayList) - 10, len(sortedDisplayList)):\n",
    "    print(sortedDisplayList[i])\n"
   ]
  },
  {
   "cell_type": "markdown",
   "id": "6e66c123",
   "metadata": {},
   "source": [
    "## Hash Table"
   ]
  },
  {
   "cell_type": "code",
   "execution_count": 16,
   "id": "4ea4aebc",
   "metadata": {},
   "outputs": [
    {
     "name": "stdout",
     "output_type": "stream",
     "text": [
      "Number of unique words:  27886\n",
      "Number of comparisons:  0\n",
      "Number of assignments:  807861\n",
      "key: a, value: 13679 \n",
      "key: a', value: 120 \n",
      "key: a's, value: 1 \n",
      "key: a-bat-fowling, value: 1 \n",
      "key: a-bed, value: 12 \n",
      "key: a-birding, value: 4 \n",
      "key: a-bleeding, value: 2 \n",
      "key: a-breeding, value: 1 \n",
      "key: a-brewing, value: 1 \n",
      "key: a-broach, value: 1 \n",
      "key: zenelophon, value: 1 \n",
      "key: zenith, value: 1 \n",
      "key: zephyrs, value: 1 \n",
      "key: zo, value: 1 \n",
      "key: zodiac, value: 1 \n",
      "key: zodiacs, value: 1 \n",
      "key: zone, value: 1 \n",
      "key: zounds, value: 1 \n",
      "key: zur, value: 2 \n",
      "key: zwaggered, value: 1 \n"
     ]
    }
   ],
   "source": [
    "global n_comparisons\n",
    "global n_assignments\n",
    "\n",
    "n_comparisons = 0\n",
    "n_assignments = 0\n",
    "\n",
    "wordNum =0\n",
    "for i in range(0, len(unsortedList)):\n",
    "    word = unsortedList[i].lower()\n",
    "    if not (word == ''):\n",
    "        if word[0].isalpha():\n",
    "        \n",
    "            if conc1.get(word):\n",
    "                num = conc1[word]\n",
    "                num += 1\n",
    "                dictassign(conc1, word, num)\n",
    "            else:\n",
    "                dictassign(conc1, word, 1)\n",
    "                wordNum +=1\n",
    "\n",
    "                \n",
    "concTemp = sorted(conc1)\n",
    "sortedConc1 = {key:conc1[key] for key in concTemp}\n",
    "\n",
    "comparison_dataframe.loc[2] = ['Hash Based Build', n_comparisons, n_assignments]   \n",
    "string = \"Number of unique words: \"\n",
    "print(string, wordNum)\n",
    "string = \"Number of comparisons: \"\n",
    "print(string, n_comparisons)\n",
    "string = \"Number of assignments: \"\n",
    "print(string, n_assignments)\n",
    "\n",
    "for x in list(sortedConc1)[0:10]:\n",
    "    print(\"key: {}, value: {} \".format(x.rstrip('\\n'),  sortedConc1[x]))\n",
    "for x in list(sortedConc1)[(len(sortedConc1) - 10):len(sortedConc1)]:\n",
    "    print(\"key: {}, value: {} \".format(x.rstrip('\\n'), sortedConc1[x]))"
   ]
  },
  {
   "cell_type": "markdown",
   "id": "090dd72b",
   "metadata": {},
   "source": [
    "# Part 3 - Analysis"
   ]
  },
  {
   "cell_type": "code",
   "execution_count": 17,
   "id": "f661e410",
   "metadata": {},
   "outputs": [
    {
     "data": {
      "text/html": [
       "<div>\n",
       "<style scoped>\n",
       "    .dataframe tbody tr th:only-of-type {\n",
       "        vertical-align: middle;\n",
       "    }\n",
       "\n",
       "    .dataframe tbody tr th {\n",
       "        vertical-align: top;\n",
       "    }\n",
       "\n",
       "    .dataframe thead th {\n",
       "        text-align: right;\n",
       "    }\n",
       "</style>\n",
       "<table border=\"1\" class=\"dataframe\">\n",
       "  <thead>\n",
       "    <tr style=\"text-align: right;\">\n",
       "      <th></th>\n",
       "      <th>Algo Name</th>\n",
       "      <th>Comparisons</th>\n",
       "      <th>Assignments</th>\n",
       "    </tr>\n",
       "  </thead>\n",
       "  <tbody>\n",
       "    <tr>\n",
       "      <th>0</th>\n",
       "      <td>Linear Search Build</td>\n",
       "      <td>18734808147</td>\n",
       "      <td>55772</td>\n",
       "    </tr>\n",
       "    <tr>\n",
       "      <th>1</th>\n",
       "      <td>Binary Search Build</td>\n",
       "      <td>2127668</td>\n",
       "      <td>55772</td>\n",
       "    </tr>\n",
       "    <tr>\n",
       "      <th>2</th>\n",
       "      <td>Hash Based Build</td>\n",
       "      <td>0</td>\n",
       "      <td>807861</td>\n",
       "    </tr>\n",
       "  </tbody>\n",
       "</table>\n",
       "</div>"
      ],
      "text/plain": [
       "             Algo Name  Comparisons  Assignments\n",
       "0  Linear Search Build  18734808147        55772\n",
       "1  Binary Search Build      2127668        55772\n",
       "2     Hash Based Build            0       807861"
      ]
     },
     "execution_count": 17,
     "metadata": {},
     "output_type": "execute_result"
    }
   ],
   "source": [
    "comparison_dataframe"
   ]
  },
  {
   "cell_type": "code",
   "execution_count": 28,
   "id": "f149c49d",
   "metadata": {},
   "outputs": [
    {
     "data": {
      "image/png": "[encoded data removed]",
      "text/plain": [
       "<Figure size 640.375x500 with 1 Axes>"
      ]
     },
     "metadata": {},
     "output_type": "display_data"
    }
   ],
   "source": [
    "df_melted = pd.melt(comparison_dataframe, id_vars=['Algo Name'], var_name='operation', value_name='count')\n",
    "g = sb.catplot(x='Algo Name', y='count', hue='operation', data=df_melted, kind='bar')\n",
    "plt.title('Build Comparison')\n",
    "plt.xlabel('Algorithm')\n",
    "plt.ylabel('Count')\n",
    "plt.ticklabel_format(style='plain', axis='y')\n",
    "plt.yscale('log')\n",
    "plt.show()"
   ]
  },
  {
   "cell_type": "markdown",
   "id": "5ac74925",
   "metadata": {},
   "source": [
    "Based on my previous expectations each algorithm performed as expected. The linear search because it had to search through a portion of the entire list most likely multiple times for each unique word of the list the number of comparisons were approx 18 billion. Assignments meets epectations because the concordance is structured at first using two lists, the Linear Search Build did 2 assignments per unique word. Which is the same with the Binary Search Build. Both numbers are accurate.\n",
    "\n",
    "Binary search build seems to meet expectations because for each unique word it had to look for duplicates so comparisons would be slightly higher than expected but are far less compared to the Linear Search Build.\n",
    "\n",
    "Lastly with the Hash based Build assignments seem higher than expected because an assignment is used for a newly found word and for its duplicates."
   ]
  },
  {
   "cell_type": "markdown",
   "id": "f385ca8f",
   "metadata": {},
   "source": [
    "# Citations\n",
    "\n",
    "1. Wikipedia contributors. \"Binary search algorithm.\" Wikipedia, The Free Encyclopedia. Wikipedia, The Free Encyclopedia, 16 Mar. 2023. Web. 16 Mar. 2023.\n",
    "2. Cormen, Thomas H., and Charles E. Leiserson. Introduction to Algorithms, 3rd Edition. The MIT Press, 2009.\n",
    "3. “Algorithms in a Nutshell.” O'Reilly Online Learning, O'Reilly Media, Inc., https://www.oreilly.com/library/view/algorithms-in-a/9780596516246/ch05s04.html. \n",
    "4. “Count Occurrences of a Number in a Sorted Array with Duplicates.” Techie Delight, 16 Sept. 2021, https://www.techiedelight.com/count-occurrences-number-sorted-array-duplicates/. \n",
    "5. Williams, Doug. “Sample Programming Assignment Sorting Using Permutations .” Program 0 - Permutation-Based Sorting, 5 Jan. 2023."
   ]
  },
  {
   "cell_type": "code",
   "execution_count": null,
   "id": "189dfecf",
   "metadata": {},
   "outputs": [],
   "source": []
  }
 ],
 "metadata": {
  "kernelspec": {
   "display_name": "Python 3 (ipykernel)",
   "language": "python",
   "name": "python3"
  },
  "language_info": {
   "codemirror_mode": {
    "name": "ipython",
    "version": 3
   },
   "file_extension": ".py",
   "mimetype": "text/x-python",
   "name": "python",
   "nbconvert_exporter": "python",
   "pygments_lexer": "ipython3",
   "version": "3.11.1"
  }
 },
 "nbformat": 4,
 "nbformat_minor": 5
}
