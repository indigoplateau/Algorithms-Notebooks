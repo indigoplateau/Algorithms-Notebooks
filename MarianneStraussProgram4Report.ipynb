{
 "cells": [
  {
   "cell_type": "markdown",
   "id": "594c0f77",
   "metadata": {},
   "source": [
    "# Program 4 Assignment <br>Marianne Strauss\n",
    "**Marianne Strauss<br>CSCI 3412 - Algorithms**\n",
    "\n",
    "# Introduction\n",
    "With the a list of characters, comics, and the appearance of each character in each comic, a social network is formed. This assignment is a program to determine the degree of seperation of an arbitrary character to Spider-Man. Data is retrieved from \"porgat.txt\" from the Social Characteristics of the Marvel Universe project. By reading in the data an Adjacency matrix can be built and based on this graph we can use various methods to determine the shortest path from the character to Spider-Man, or the Degree of Seperation."
   ]
  },
  {
   "cell_type": "code",
   "execution_count": 1,
   "id": "d2e374b3",
   "metadata": {},
   "outputs": [],
   "source": [
    "using Printf\n",
    "using SparseArrays # I dont know if matrix we use is sparse \"enough\" to fully use this matrix type\n",
    "using LinearAlgebra\n"
   ]
  },
  {
   "cell_type": "markdown",
   "id": "173465d3",
   "metadata": {},
   "source": [
    "# Read Network\n",
    "\n",
    "Using code from Marvel-Hint.jl (see citations). We first import the network built from list of comic characters, comics, and character appearances (edges) from porgat.txt. Data was compiled by and downloaded from Social Characteristics of the Marvel Universe project (also see citations)."
   ]
  },
  {
   "cell_type": "code",
   "execution_count": 2,
   "id": "61108505",
   "metadata": {},
   "outputs": [
    {
     "data": {
      "text/plain": [
       "read_network"
      ]
     },
     "execution_count": 2,
     "metadata": {},
     "output_type": "execute_result"
    }
   ],
   "source": [
    "\"\"\"\n",
    "    read_network(pathname)\n",
    "\n",
    "Read the Marvel universe network from the file. The format of the file is\n",
    "given in the referenced papers.\n",
    "\"\"\"\n",
    "function read_network(pathname)\n",
    "    # Reads the ith vertex from file\n",
    "    function read_vertex(i, file)\n",
    "\t    s = readline(file)\n",
    "        m = match(r\"^([0-9]*)\\s*\\\"(.*)\\\"$\", s)\n",
    "        if parse(Int, m[1]) != i\n",
    "            error(\"Vertex number $i does not match expected number $line[1]\")\n",
    "        end\n",
    "        return m[2]\n",
    "    end\n",
    "    # Process the input file\n",
    "    open(pathname) do file\n",
    "        # Read the *Vertices line\n",
    "        parsed = split(readline(file))\n",
    "        if parsed[1] != \"*Vertices\"\n",
    "            error(\"Missing *Vertices line\")\n",
    "        end\n",
    "        nvertices = parse(Int, parsed[2])\n",
    "        ncharacters = parse(Int, parsed[3])\n",
    "        ncomics = nvertices - ncharacters\n",
    "        # Read vertices - characters and comics\n",
    "        characters = [read_vertex(i, file) for i = 1:ncharacters]\n",
    "        comics = [read_vertex(i, file) for i = ncharacters+1:nvertices]\n",
    "        # Read *Edgeslist line\n",
    "        if readline(file) != \"*Edgeslist\" then\n",
    "            error(\"Missing *Edgeslist line\")\n",
    "        end\n",
    "        # Read the edges - appearances\n",
    "        appearances = zeros(Int, ncharacters, ncomics)\n",
    "        while !eof(file)\n",
    "            parsed = split(readline(file))\n",
    "            character = parse(Int, parsed[1])\n",
    "            for i = 2:length(parsed)\n",
    "                comic = parse(Int, parsed[i]) - ncharacters\n",
    "                appearances[character, comic] = 1\n",
    "            end\n",
    "        end\n",
    "        return characters, comics, appearances\n",
    "    end\n",
    "end"
   ]
  },
  {
   "cell_type": "code",
   "execution_count": 3,
   "id": "d05f37a3",
   "metadata": {
    "scrolled": false
   },
   "outputs": [
    {
     "name": "stdout",
     "output_type": "stream",
     "text": [
      "Reading Marvel universe network\n",
      "Number of characters = 6486\n",
      "Number of comics = 12942\n",
      "Mean books per character = 14.90\n",
      "Mean characters per book = 7.47\n",
      "collaborations[1:30, 1:30] = [1 0 0 0 0 0 0 0 0 0 0 0 0 0 0 0 0 0 0 0 0 0 0 0 0 0 0 0 0 0; 0 9 0 0 0 0 0 0 0 0 0 0 0 0 0 0 0 0 0 0 0 0 0 0 0 0 0 0 0 0; 0 0 9 0 0 0 0 0 0 0 0 0 0 0 0 0 0 0 0 0 0 0 0 0 0 0 0 0 0 0; 0 0 0 3 0 0 0 0 0 0 0 0 0 0 0 0 0 0 0 0 0 0 0 0 0 0 0 0 0 0; 0 0 0 0 3 0 0 0 0 0 0 0 0 0 0 0 0 0 0 0 0 0 0 0 0 0 0 0 0 0; 0 0 0 0 0 4 0 0 0 0 0 0 0 0 0 0 0 0 0 0 0 0 0 0 0 0 0 0 0 0; 0 0 0 0 0 0 1 0 0 0 0 0 0 0 0 0 0 0 0 0 0 0 0 0 0 0 0 0 0 0; 0 0 0 0 0 0 0 2 0 0 0 0 0 0 0 0 0 0 0 0 0 0 0 0 0 0 0 0 0 0; 0 0 0 0 0 0 0 0 2 0 0 0 0 0 0 0 0 0 0 0 0 0 0 0 0 0 0 0 0 0; 0 0 0 0 0 0 0 0 0 45 0 0 0 0 0 1 0 0 0 0 1 0 0 0 0 0 0 0 0 0; 0 0 0 0 0 0 0 0 0 0 1 0 0 0 0 0 1 0 0 0 0 0 0 0 0 0 0 0 0 0; 0 0 0 0 0 0 0 0 0 0 0 3 0 0 0 0 0 0 0 0 0 0 0 0 0 0 0 0 0 0; 0 0 0 0 0 0 0 0 0 0 0 0 4 0 0 0 0 0 0 0 0 0 0 0 0 0 0 0 0 0; 0 0 0 0 0 0 0 0 0 0 0 0 0 4 0 0 0 0 0 0 0 0 0 0 0 0 0 0 0 0; 0 0 0 0 0 0 0 0 0 0 0 0 0 0 4 0 0 0 0 0 0 0 0 0 0 0 0 0 0 0; 0 0 0 0 0 0 0 0 0 1 0 0 0 0 0 71 0 0 1 0 0 0 0 0 0 0 0 0 0 0; 0 0 0 0 0 0 0 0 0 0 1 0 0 0 0 0 1 0 0 0 0 0 0 0 0 0 0 0 0 0; 0 0 0 0 0 0 0 0 0 0 0 0 0 0 0 0 0 1 0 0 0 0 0 0 0 0 0 0 0 0; 0 0 0 0 0 0 0 0 0 0 0 0 0 0 0 1 0 0 12 0 0 0 0 0 0 0 0 5 0 0; 0 0 0 0 0 0 0 0 0 0 0 0 0 0 0 0 0 0 0 1 0 0 0 0 0 0 0 0 0 0; 0 0 0 0 0 0 0 0 0 1 0 0 0 0 0 0 0 0 0 0 15 0 0 0 0 0 0 0 0 0; 0 0 0 0 0 0 0 0 0 0 0 0 0 0 0 0 0 0 0 0 0 3 0 0 0 0 0 0 0 0; 0 0 0 0 0 0 0 0 0 0 0 0 0 0 0 0 0 0 0 0 0 0 4 0 0 0 0 0 0 0; 0 0 0 0 0 0 0 0 0 0 0 0 0 0 0 0 0 0 0 0 0 0 0 10 0 2 2 0 0 0; 0 0 0 0 0 0 0 0 0 0 0 0 0 0 0 0 0 0 0 0 0 0 0 0 1 0 0 0 0 0; 0 0 0 0 0 0 0 0 0 0 0 0 0 0 0 0 0 0 0 0 0 0 0 2 0 2 2 0 0 0; 0 0 0 0 0 0 0 0 0 0 0 0 0 0 0 0 0 0 0 0 0 0 0 2 0 2 2 0 0 0; 0 0 0 0 0 0 0 0 0 0 0 0 0 0 0 0 0 0 5 0 0 0 0 0 0 0 0 21 0 0; 0 0 0 0 0 0 0 0 0 0 0 0 0 0 0 0 0 0 0 0 0 0 0 0 0 0 0 0 3 3; 0 0 0 0 0 0 0 0 0 0 0 0 0 0 0 0 0 0 0 0 0 0 0 0 0 0 0 0 3 3]\n"
     ]
    },
    {
     "data": {
      "text/plain": [
       "30×30 Matrix{Int64}:\n",
       " 1  0  0  0  0  0  0  0  0   0  0  0  …  0   0  0  0   0  0  0  0   0  0  0\n",
       " 0  9  0  0  0  0  0  0  0   0  0  0     0   0  0  0   0  0  0  0   0  0  0\n",
       " 0  0  9  0  0  0  0  0  0   0  0  0     0   0  0  0   0  0  0  0   0  0  0\n",
       " 0  0  0  3  0  0  0  0  0   0  0  0     0   0  0  0   0  0  0  0   0  0  0\n",
       " 0  0  0  0  3  0  0  0  0   0  0  0     0   0  0  0   0  0  0  0   0  0  0\n",
       " 0  0  0  0  0  4  0  0  0   0  0  0  …  0   0  0  0   0  0  0  0   0  0  0\n",
       " 0  0  0  0  0  0  1  0  0   0  0  0     0   0  0  0   0  0  0  0   0  0  0\n",
       " 0  0  0  0  0  0  0  2  0   0  0  0     0   0  0  0   0  0  0  0   0  0  0\n",
       " 0  0  0  0  0  0  0  0  2   0  0  0     0   0  0  0   0  0  0  0   0  0  0\n",
       " 0  0  0  0  0  0  0  0  0  45  0  0     0   1  0  0   0  0  0  0   0  0  0\n",
       " 0  0  0  0  0  0  0  0  0   0  1  0  …  0   0  0  0   0  0  0  0   0  0  0\n",
       " 0  0  0  0  0  0  0  0  0   0  0  3     0   0  0  0   0  0  0  0   0  0  0\n",
       " 0  0  0  0  0  0  0  0  0   0  0  0     0   0  0  0   0  0  0  0   0  0  0\n",
       " ⋮              ⋮               ⋮     ⋱      ⋮               ⋮            \n",
       " 0  0  0  0  0  0  0  0  0   0  0  0     0   0  0  0   0  0  0  0   5  0  0\n",
       " 0  0  0  0  0  0  0  0  0   0  0  0     1   0  0  0   0  0  0  0   0  0  0\n",
       " 0  0  0  0  0  0  0  0  0   1  0  0  …  0  15  0  0   0  0  0  0   0  0  0\n",
       " 0  0  0  0  0  0  0  0  0   0  0  0     0   0  3  0   0  0  0  0   0  0  0\n",
       " 0  0  0  0  0  0  0  0  0   0  0  0     0   0  0  4   0  0  0  0   0  0  0\n",
       " 0  0  0  0  0  0  0  0  0   0  0  0     0   0  0  0  10  0  2  2   0  0  0\n",
       " 0  0  0  0  0  0  0  0  0   0  0  0     0   0  0  0   0  1  0  0   0  0  0\n",
       " 0  0  0  0  0  0  0  0  0   0  0  0  …  0   0  0  0   2  0  2  2   0  0  0\n",
       " 0  0  0  0  0  0  0  0  0   0  0  0     0   0  0  0   2  0  2  2   0  0  0\n",
       " 0  0  0  0  0  0  0  0  0   0  0  0     0   0  0  0   0  0  0  0  21  0  0\n",
       " 0  0  0  0  0  0  0  0  0   0  0  0     0   0  0  0   0  0  0  0   0  3  3\n",
       " 0  0  0  0  0  0  0  0  0   0  0  0     0   0  0  0   0  0  0  0   0  3  3"
      ]
     },
     "execution_count": 3,
     "metadata": {},
     "output_type": "execute_result"
    }
   ],
   "source": [
    "# Read the network\n",
    "println(\"Reading Marvel universe network\")\n",
    "characters, comics, appearances = read_network(\"porgat.txt\")\n",
    "ncharacters = length(characters)\n",
    "ncomics = length(comics)\n",
    "# Print some statistics\n",
    "println(\"Number of characters = $ncharacters\")\n",
    "println(\"Number of comics = $ncomics\")\n",
    "nappearances = sum(appearances)\n",
    "@printf(\"Mean books per character = %0.2f\\n\", nappearances / ncharacters)\n",
    "@printf(\"Mean characters per book = %0.2f\\n\", nappearances / ncomics)\n",
    "# Compute collaboration matrix\n",
    "collaborations = appearances * appearances'\n",
    "@show collaborations[1:30, 1:30]"
   ]
  },
  {
   "cell_type": "markdown",
   "id": "dea878eb",
   "metadata": {},
   "source": [
    "Taking the appearance matrix returned from read_network() we can build a Adjacency matrix by multiplying the Appearance matrix by it's transpose. With this collaboration matrix we can count the walks of walks. With the colobaration matrix by caculating $A^n$, the lowest power $n$ where $(i,j)$ is non-zero is the length or distance from $i$ to $j$ (Definition taken from wiki article, see citations)."
   ]
  },
  {
   "cell_type": "markdown",
   "id": "6d6a2220",
   "metadata": {},
   "source": []
  },
  {
   "cell_type": "markdown",
   "id": "3df12936",
   "metadata": {},
   "source": [
    "# Solution 1\n",
    "\n",
    "With such a large square matrix (6486 x 6486), precomputing each power of $n$ (2 to 6) will be computationally expensive. Even with Julia's optimized BLAS functions expected runtime complexity is $Θ(n^3)$ due to the nature of multiplying matrices.\n",
    "\n",
    "Based on hint given in class, the below method is an attempt to reduce runtime complexity to $O(n)$. Because we are only interested in one row (Spider-man's) and one arbitrary column, in theory we can discard the 2 \"outer loops\" and find the degree of seperation in constant time.\n",
    "\n",
    "This should be done by just using dot multiplication on Spider-mans row with the arbitray column for each power. If $Collaboration[Spider-Man, arbirtary Character]$ or the result of that dot product of two vectors of spider-mans row and some arbitrary column is $>0$ than that power is the degree of seperation. So we just do the the dot product of Spidermans row and every column of Collaborations matrix and store it in rowvector vector. If $Collaboration[Spider-Man, arbirtary Character]$ is greater than zero (non-zero) we return that power."
   ]
  },
  {
   "cell_type": "code",
   "execution_count": 36,
   "id": "581773fc",
   "metadata": {},
   "outputs": [
    {
     "data": {
      "text/plain": [
       "six_degrees_of_x (generic function with 1 method)"
      ]
     },
     "execution_count": 36,
     "metadata": {},
     "output_type": "execute_result"
    }
   ],
   "source": [
    "function six_degrees_of_x(collabmatrix, xindex, characterindex)\n",
    "    if xindex == characterindex\n",
    "        return 0\n",
    "    end\n",
    "    \n",
    "    # Initialize the row vector with the desired row of A\n",
    "    rowvector = collabmatrix[xindex, :]\n",
    "    \n",
    "    # Initialize the result and power\n",
    "    result = collabmatrix[xindex, characterindex]\n",
    "    power = 1\n",
    "    \n",
    "    \n",
    "    # Compute the powers of collabmatrix^n using row vector multiplication\n",
    "    while result == 0 && power < 6\n",
    "        for i in 1:size(rowvector, 1)\n",
    "            rowvector[i] = dot(rowvector, collabmatrix[:, i])\n",
    "        end\n",
    "        power += 1\n",
    "        result = rowvector[characterindex]\n",
    "    end\n",
    "\n",
    "    # Return the shortest path length between the characters\n",
    "    if result == 0\n",
    "        return nothing\n",
    "    else\n",
    "        return power\n",
    "    end\n",
    "end\n"
   ]
  },
  {
   "cell_type": "code",
   "execution_count": 40,
   "id": "f7492bc4",
   "metadata": {
    "scrolled": true
   },
   "outputs": [
    {
     "name": "stdout",
     "output_type": "stream",
     "text": [
      "3\n"
     ]
    }
   ],
   "source": [
    "test =  six_degrees_of_x(collaborations, 5306, 1)\n",
    "println(test)"
   ]
  },
  {
   "cell_type": "markdown",
   "id": "b5fb18c1",
   "metadata": {},
   "source": [
    "# Solution 2\n",
    "\n",
    "This was more done because I couldnt get my Solution 1 to work and I need a relatively quick way to test my results. This method uses the LightGraphs package and its implmentation of the A* algorithm. This is useful because it can count the distance (number of walks) as an extension of Dijkstra's algorithm. The differance is that A* uses heuristics to guide it's search and does so from \"a specified source to a specified goal\". The drawback is that it has $O(b^d)$ space complexity. But for our uses it doesnt seem to be an issue and runs relatively quickly for each search."
   ]
  },
  {
   "cell_type": "code",
   "execution_count": 6,
   "id": "75cf3452",
   "metadata": {},
   "outputs": [
    {
     "data": {
      "text/plain": [
       "shortestwithstar (generic function with 1 method)"
      ]
     },
     "execution_count": 6,
     "metadata": {},
     "output_type": "execute_result"
    }
   ],
   "source": [
    "using LightGraphs\n",
    "\n",
    "\n",
    "g = SimpleGraph{Int64}(6486)\n",
    "for i in 1:size(collaborations, 1)\n",
    "    for j in 1:size(collaborations, 2)\n",
    "        if collaborations[i,j] != 0\n",
    "            add_edge!(g, i, j)\n",
    "        end\n",
    "    end\n",
    "end\n",
    "\n",
    "function shortestwithstar(a, b)\n",
    "    \n",
    "    d = length(a_star(g, a, b))\n",
    "    return d\n",
    "    \n",
    "end"
   ]
  },
  {
   "cell_type": "code",
   "execution_count": 7,
   "id": "b4a3d1e5",
   "metadata": {},
   "outputs": [
    {
     "name": "stdout",
     "output_type": "stream",
     "text": [
      "3\n"
     ]
    }
   ],
   "source": [
    "test = shortestwithstar(5306, 1)\n",
    "println(test)"
   ]
  },
  {
   "cell_type": "markdown",
   "id": "adfbd0d4",
   "metadata": {},
   "source": [
    "The below method also works and may have better performance of A*. "
   ]
  },
  {
   "cell_type": "code",
   "execution_count": 8,
   "id": "cdd492db",
   "metadata": {},
   "outputs": [
    {
     "name": "stdout",
     "output_type": "stream",
     "text": [
      "3\n"
     ]
    }
   ],
   "source": [
    "test = gdistances(g, 5306)[1]\n",
    "println(test)"
   ]
  },
  {
   "cell_type": "markdown",
   "id": "0490756f",
   "metadata": {},
   "source": [
    "# Solution 3\n",
    "\n",
    "Below is the most bruteforce solution and would have a lot of overhead because I am just precomputing each $A^n$ and storing the resulting matrix in a vector. I will not run because it would theorectically take some time."
   ]
  },
  {
   "cell_type": "code",
   "execution_count": 9,
   "id": "cb3e31d5",
   "metadata": {},
   "outputs": [],
   "source": [
    "# #big calculation method\n",
    "# tempmatrix = collaborations\n",
    "# precomputed_vector = Matrix{Int64}[]\n",
    "\n",
    "# for n in 1:6\n",
    "#     push!(precomputed_vector, tempmatrix^n)\n",
    "# end\n",
    "\n",
    "# function bruteforce_six_degrees(v, characterindex)\n",
    "#     for i in 1:6\n",
    "#         if v[i][5306, characterindex] > 0\n",
    "#             return i\n",
    "#     end\n",
    "#     return 0\n",
    "# end"
   ]
  },
  {
   "cell_type": "markdown",
   "id": "aafe1345",
   "metadata": {},
   "source": [
    "# Results"
   ]
  },
  {
   "cell_type": "markdown",
   "id": "2341f6ef",
   "metadata": {},
   "source": [
    "## Solution 1 Results"
   ]
  },
  {
   "cell_type": "code",
   "execution_count": 38,
   "id": "89b986fc",
   "metadata": {},
   "outputs": [
    {
     "name": "stdout",
     "output_type": "stream",
     "text": [
      "Six degrees of Spider Man - Examples:\n",
      "1 24-HOUR MAN/EMMANUEL : 3\n",
      "2 3-D MAN/CHARLES CHAN : 1\n",
      "3 4-D MAN/MERCURIO : 2\n",
      "95 AMAZO-MAXI-WOMAN/ : >6\n",
      "389 BAV-TEK : 2\n",
      "957 CERA, KAY : 1\n",
      "1082 CLINTON, BILL : 1\n",
      "1089 CLUMSY FOULUP : >6\n",
      "1388 DE LA SPIROSA, COUNT : 2\n",
      "1711 EL TORO ROJO : 2\n",
      "1841 FENRIS : >6\n",
      "2052 ÁGAMORA : 1\n",
      "2216 GREASE : 2\n",
      "2262 GROSS, IRA : 1\n",
      "2483 HITLER, ADOLF : 2\n",
      "2908 KUBIK : 2\n",
      "3202 LITTLE, ABNER : 2\n",
      "3481 MARTINEZ, ALITHA : 1\n",
      "3863 MYLZOB'RYN, CHIEF : 2\n",
      "4033 O'KEEFE, CHANDRA : 1\n",
      "4095 OSWALD : >6\n",
      "4387 PSI-BORG/ : 2\n",
      "4575 REAGAN, NANCY : 2\n",
      "4630 REPTYL : 1\n",
      "4750 ROSE, MICHKA : 2\n",
      "5306 SPIDER-MAN/PETER PAR : 0\n",
      "5705 THANOS : 1\n",
      "6411 ZANTOR : >6\n",
      "6452 ZURI : 1\n",
      "6484 STORMER : 2\n",
      "64 AIRBORNE/ : 2\n",
      "More Six degrees of Spider Man Examples:\n",
      "16 ABSORBING MAN/CARL C : 1\n",
      "157 ANTHROMORPHO : 2\n",
      "304 AZOPARDI : 3\n",
      "410 BEAUTIFUL DREAMER II : 2\n",
      "688 BRAITHWAITE, JUDGE R : 2\n",
      "835 CALLAHAN, DANNY : >6\n",
      "982 CHAKRA II : 3\n",
      "1306 D'ANGELO, LIEUTENANT : 1\n",
      "1371 DARLEGUNG, GEN. : >6\n",
      "2180 GOOM : 3\n",
      "2309 HALE, JONAS : 1\n",
      "2500 HOFFMAN : >6\n",
      "2661 IRON GIANT MAN | MUT : 2\n",
      "2746 KATZENBERG, NICK : 1\n",
      "3242 LOGAN, WAYNE : 2\n",
      "3292 LUMP : 2\n",
      "3438 MANT/ERNEST : >6\n",
      "3923 NEPTUNIUM : 1\n",
      "4031 O'HARA, ROBERT IRONG : 2\n",
      "1127 COLOSSUS II/PETER RA : 1\n",
      "4308 POTTS, VIRGINIA PEPP : 2\n",
      "4517 RANDAK : >6\n",
      "5106 SIKORSKY, RAYMOND : 1\n",
      "5306 SPIDER-MAN/PETER PAR : 0\n",
      "3327 MACRAE, TRUTH : 2\n",
      "5953 UNDERTOW : 2\n",
      "6020 VENOMM : 2\n",
      "6265 WILSON, JIM : 1\n",
      "6459 G'RATH : 2\n"
     ]
    }
   ],
   "source": [
    "# Six degrees of Spider Man with Solution 1\n",
    "# Test 1\n",
    "listofcharactersindex = [1, 2, 3, 95, 389, 957, 1082, 1089, 1388, 1711, \n",
    "    1841, 2052, 2216, 2262, 2483, 2908, 3202, 3481, 3863, 4033, \n",
    "    4095, 4387, 4575, 4630, 4750, 5306, 5705, 6411, 6452, 6484, 64\n",
    "]\n",
    "println(\"Six degrees of Spider Man - Examples:\")\n",
    "for i in listofcharactersindex\n",
    "    degrees = six_degrees_of_x(collaborations, 5306, i)\n",
    "    \n",
    "    if degrees == nothing\n",
    "        println(\"$i \" * characters[i] * \" : >6\")\n",
    "    else\n",
    "        println(\"$i \" * characters[i] * \" : $degrees\")\n",
    "    end\n",
    "end\n",
    "\n",
    "# Test 2\n",
    "listofcharactersstr = [\"ABSORBING MAN/CARL C\", \"ANTHROMORPHO\", \"AZOPARDI\", \"BEAUTIFUL DREAMER II\", \"BRAITHWAITE, JUDGE R\", \n",
    "                        \"CALLAHAN, DANNY\", \"CHAKRA II\", \"D'ANGELO, LIEUTENANT\", \"DARLEGUNG, GEN.\", \"GOOM\", \"HALE, JONAS\", \n",
    "                        \"HOFFMAN\", \"IRON GIANT MAN | MUT\", \"KATZENBERG, NICK\", \"LOGAN, WAYNE\", \"LUMP\", \"MANT/ERNEST\",\n",
    "                        \"NEPTUNIUM\", \"O'HARA, ROBERT IRONG\", \"PET\", \"POTTS, VIRGINIA PEPP\", \"RANDAK\", \"SIKORSKY, RAYMOND\", \n",
    "                        \"SPIDER-MAN/PETER PAR\", \"TRUTH\", \"UNDERTOW\", \"VENOMM\", \"WILSON, JIM\", \"G'RATH\"\n",
    "]\n",
    "println(\"More Six degrees of Spider Man Examples:\")\n",
    "for i in listofcharactersstr\n",
    "    foundindex = findfirst(x -> occursin(i, x),  characters)\n",
    "    degrees = six_degrees_of_x(collaborations, 5306, foundindex)\n",
    "    \n",
    "    if degrees == nothing\n",
    "        println(\"$foundindex \" * characters[foundindex] * \" : >6\")\n",
    "    else\n",
    "        println(\"$foundindex \" * characters[foundindex] * \" : $degrees\")\n",
    "    end\n",
    "end"
   ]
  },
  {
   "cell_type": "markdown",
   "id": "ac2836e7",
   "metadata": {},
   "source": [
    "# NOTE\n",
    "\n",
    "very confused sometimes it returns 2 when 3 is expected (see 4750 ROSE, MICHKA etc) and sometimes returns 3 as expected (24-HOUR MAN/EMMANUEL). I am turning in as is because the solution below gives expected/correct results"
   ]
  },
  {
   "cell_type": "markdown",
   "id": "e3c01815",
   "metadata": {},
   "source": [
    "## Solution 2 Results"
   ]
  },
  {
   "cell_type": "code",
   "execution_count": 24,
   "id": "01f96ea0",
   "metadata": {
    "scrolled": false
   },
   "outputs": [
    {
     "name": "stdout",
     "output_type": "stream",
     "text": [
      "Six degrees of Spider Man - Examples:\n",
      "1 24-HOUR MAN/EMMANUEL : 3\n",
      "2 3-D MAN/CHARLES CHAN : 1\n",
      "3 4-D MAN/MERCURIO : 2\n",
      "95 AMAZO-MAXI-WOMAN/ : >6\n",
      "389 BAV-TEK : 3\n",
      "957 CERA, KAY : 1\n",
      "1082 CLINTON, BILL : 1\n",
      "1089 CLUMSY FOULUP : >6\n",
      "1388 DE LA SPIROSA, COUNT : 2\n",
      "1711 EL TORO ROJO : 2\n",
      "1841 FENRIS : >6\n",
      "2052 ÁGAMORA : 1\n",
      "2216 GREASE : 2\n",
      "2262 GROSS, IRA : 1\n",
      "2483 HITLER, ADOLF : 2\n",
      "2908 KUBIK : 2\n",
      "3202 LITTLE, ABNER : 2\n",
      "3481 MARTINEZ, ALITHA : 1\n",
      "3863 MYLZOB'RYN, CHIEF : 3\n",
      "4033 O'KEEFE, CHANDRA : 1\n",
      "4095 OSWALD : >6\n",
      "4387 PSI-BORG/ : 2\n",
      "4575 REAGAN, NANCY : 2\n",
      "4630 REPTYL : 1\n",
      "4750 ROSE, MICHKA : 3\n",
      "5306 SPIDER-MAN/PETER PAR : 0\n",
      "5705 THANOS : 1\n",
      "6411 ZANTOR : >6\n",
      "6452 ZURI : 1\n",
      "6484 STORMER : 3\n",
      "64 AIRBORNE/ : 2\n",
      "More Six degrees of Spider Man Examples:\n",
      "16 ABSORBING MAN/CARL C : 1\n",
      "157 ANTHROMORPHO : 2\n",
      "304 AZOPARDI : 3\n",
      "410 BEAUTIFUL DREAMER II : 2\n",
      "688 BRAITHWAITE, JUDGE R : 2\n",
      "835 CALLAHAN, DANNY : >6\n",
      "982 CHAKRA II : 3\n",
      "1306 D'ANGELO, LIEUTENANT : 1\n",
      "1371 DARLEGUNG, GEN. : >6\n",
      "2180 GOOM : 3\n",
      "2309 HALE, JONAS : 1\n",
      "2500 HOFFMAN : >6\n",
      "2661 IRON GIANT MAN | MUT : 2\n",
      "2746 KATZENBERG, NICK : 1\n",
      "3242 LOGAN, WAYNE : 3\n",
      "3292 LUMP : 2\n",
      "3438 MANT/ERNEST : >6\n",
      "3923 NEPTUNIUM : 1\n",
      "4031 O'HARA, ROBERT IRONG : 2\n",
      "1127 COLOSSUS II/PETER RA : 1\n",
      "4308 POTTS, VIRGINIA PEPP : 3\n",
      "4517 RANDAK : >6\n",
      "5106 SIKORSKY, RAYMOND : 1\n",
      "5306 SPIDER-MAN/PETER PAR : 0\n",
      "3327 MACRAE, TRUTH : 2\n",
      "5953 UNDERTOW : 2\n",
      "6020 VENOMM : 2\n",
      "6265 WILSON, JIM : 1\n",
      "6459 G'RATH : 3\n"
     ]
    }
   ],
   "source": [
    "# Six degrees of Spider Man with A*\n",
    "# Test 1\n",
    "listofcharactersindex = [1, 2, 3, 95, 389, 957, 1082, 1089, 1388, 1711, \n",
    "    1841, 2052, 2216, 2262, 2483, 2908, 3202, 3481, 3863, 4033, \n",
    "    4095, 4387, 4575, 4630, 4750, 5306, 5705, 6411, 6452, 6484, 64\n",
    "]\n",
    "println(\"Six degrees of Spider Man - Examples:\")\n",
    "for i in listofcharactersindex\n",
    "    degrees = shortestwithstar(5306, i)\n",
    "    \n",
    "    if degrees == 0\n",
    "        if i == 5306\n",
    "                println(\"$i \" * characters[i] * \" : 0\")\n",
    "        else\n",
    "                println(\"$i \" * characters[i] * \" : >6\")\n",
    "        end\n",
    "    else\n",
    "        println(\"$i \" * characters[i] * \" : $degrees\")\n",
    "    end\n",
    "end\n",
    "\n",
    "# Test 2\n",
    "listofcharactersstr = [\"ABSORBING MAN/CARL C\", \"ANTHROMORPHO\", \"AZOPARDI\", \"BEAUTIFUL DREAMER II\", \"BRAITHWAITE, JUDGE R\", \n",
    "                        \"CALLAHAN, DANNY\", \"CHAKRA II\", \"D'ANGELO, LIEUTENANT\", \"DARLEGUNG, GEN.\", \"GOOM\", \"HALE, JONAS\", \n",
    "                        \"HOFFMAN\", \"IRON GIANT MAN | MUT\", \"KATZENBERG, NICK\", \"LOGAN, WAYNE\", \"LUMP\", \"MANT/ERNEST\",\n",
    "                        \"NEPTUNIUM\", \"O'HARA, ROBERT IRONG\", \"PET\", \"POTTS, VIRGINIA PEPP\", \"RANDAK\", \"SIKORSKY, RAYMOND\", \n",
    "                        \"SPIDER-MAN/PETER PAR\", \"TRUTH\", \"UNDERTOW\", \"VENOMM\", \"WILSON, JIM\", \"G'RATH\"\n",
    "]\n",
    "println(\"More Six degrees of Spider Man Examples:\")\n",
    "for i in listofcharactersstr\n",
    "    foundindex = findfirst(x -> occursin(i, x),  characters)\n",
    "    degrees = shortestwithstar(5306, foundindex)\n",
    "    \n",
    "    if degrees == 0\n",
    "        if foundindex == 5306\n",
    "                println(\"$foundindex \" * characters[foundindex] * \" : 0\")\n",
    "        else\n",
    "                println(\"$foundindex \" * characters[foundindex] * \" : >6\")\n",
    "        end\n",
    "    else\n",
    "        println(\"$foundindex \" * characters[foundindex] * \" : $degrees\")\n",
    "    end\n",
    "end"
   ]
  },
  {
   "cell_type": "markdown",
   "id": "6d616e57",
   "metadata": {},
   "source": [
    "## Solution 3 Results\n",
    "\n",
    "Not to be ran"
   ]
  },
  {
   "cell_type": "code",
   "execution_count": 12,
   "id": "57d68b79",
   "metadata": {},
   "outputs": [],
   "source": [
    "# # Six degrees of Spider Man with the bruteforce method\n",
    "# # Test 1\n",
    "# listofcharactersindex = [1, 2, 3, 95, 389, 957, 1082, 1089, 1388, 1711, \n",
    "#     1841, 2052, 2216, 2262, 2483, 2908, 3202, 3481, 3863, 4033, \n",
    "#     4095, 4387, 4575, 4630, 4750, 5306, 5705, 6411, 6452, 6484, 64\n",
    "# ]\n",
    "# println(\"Six degrees of Spider Man - Examples:\")\n",
    "# for i in listofcharactersindex\n",
    "#     degrees = bruteforce_six_degrees(precomputed_vector, i)\n",
    "    \n",
    "#     degrees == 0 && println(\"$i \" * characters[i] * \" : >6\")\n",
    "#     degrees < 6 && println(\"$i \" * characters[i] * \" : $degrees\")\n",
    "# end\n",
    "\n",
    "# # Test 2\n",
    "# listofcharactersstr = [\"ABSORBING MAN/CARL C\", \"ANTHROMORPHO\", \"AZOPARDI\", \"BEAUTIFUL DREAMER II\", \"BRAITHWAITE, JUDGE R\", \n",
    "#                         \"CALLAHAN, DANNY\", \"CHAKRA II\", \"D'ANGELO, LIEUTENANT\", \"DARLEGUNG, GEN.\", \"GOOM\", \"HALE, JONAS\", \n",
    "#                         \"HOFFMAN\", \"IRON GIANT MAN | MUT\", \"KATZENBERG, NICK\", \"LOGAN, WAYNE\", \"LUMP\", \"MANT/ERNEST\",\n",
    "#                         \"NEPTUNIUM\", \"O'HARA, ROBERT IRONG\", \"PET\", \"POTTS, VIRGINIA PEPP\", \"RANDAK\", \"SIKORSKY, RAYMOND\", \n",
    "#                         \"SPIDER-MAN/PETER PAR\", \"TRUTH\", \"UNDERTOW\", \"VENOMM\", \"WILSON, JIM\", \"G'RATH\"\n",
    "# ]\n",
    "# println(\"More Six degrees of Spider Man Examples:\")\n",
    "# for i in listofcharactersstr\n",
    "#     foundindex = findfirst(x -> occursin(i, x),  characters)\n",
    "#     degrees = bruteforce_six_degrees(precomputed_vector, foundindex)\n",
    "    \n",
    "#     degrees == 0 && println(\"$foundindex \" * characters[foundindex] * \" : >6\")\n",
    "#     degrees < 6 && println(\"$foundindex \" * characters[foundindex] * \" : $degrees\")\n",
    "# end"
   ]
  },
  {
   "cell_type": "markdown",
   "id": "76b4f405",
   "metadata": {},
   "source": [
    "## Citations\n",
    "\n",
    "1. Williams, Doug. “Marvel-Hint.jl.” \n",
    "3. Williams, Doug. “Scooby Number.ipynb.” \n",
    "2. “Lightgraphs Documentation.” Path and Traversal · LightGraphs, https://docs.juliahub.com/LightGraphs/Xm08G/1.3.3/pathing/.\n",
    "3. Miro, Joe, et al. “Social Characteristics of the Marvel Universe.” Dept. Matemàtiques i Informàtica, Universitat De Les Illes Balears, Feb. 2002, http://bioinfo.uib.es/~joemiro/marvel.html.\n",
    "4. Wikipedia contributors. \"Adjacency matrix.\" Wikipedia, The Free Encyclopedia. Wikipedia, The Free Encyclopedia, 11 Feb. 2023. Web. 5 May. 2023.\n",
    "5. Wikipedia contributors. \"A* search algorithm.\" Wikipedia, The Free Encyclopedia. Wikipedia, The Free Encyclopedia, 29 Apr. 2023. Web. 5 May. 2023.\n",
    "6. “Dot Method.” Linear Algebra · The Julia Language, https://docs.julialang.org/en/v1/stdlib/LinearAlgebra/#LinearAlgebra.dot-Tuple{Any,%20Any,%20Any}. "
   ]
  },
  {
   "cell_type": "code",
   "execution_count": null,
   "id": "7955ec43",
   "metadata": {},
   "outputs": [],
   "source": []
  }
 ],
 "metadata": {
  "kernelspec": {
   "display_name": "Julia 1.8.5",
   "language": "julia",
   "name": "julia-1.8"
  },
  "language_info": {
   "file_extension": ".jl",
   "mimetype": "application/julia",
   "name": "julia",
   "version": "1.8.5"
  }
 },
 "nbformat": 4,
 "nbformat_minor": 5
}
